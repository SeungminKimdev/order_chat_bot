{
 "cells": [
  {
   "cell_type": "code",
   "execution_count": 1,
   "metadata": {},
   "outputs": [],
   "source": [
    "import re\n",
    "from nltk.corpus import wordnet\n",
    "# Building a list of Keywords\n",
    "list_words=['hello','timings']\n",
    "list_syn={}\n",
    "for word in list_words:\n",
    "    synonyms=[]\n",
    "    for syn in wordnet.synsets(word):\n",
    "        for lem in syn.lemmas():\n",
    "            # Remove any special characters from synonym strings\n",
    "            lem_name = re.sub('[^a-zA-Z0-9 \\n\\.]', ' ', lem.name())\n",
    "            synonyms.append(lem_name)\n",
    "    list_syn[word]=set(synonyms)"
   ]
  },
  {
   "cell_type": "code",
   "execution_count": 2,
   "metadata": {},
   "outputs": [
    {
     "name": "stdout",
     "output_type": "stream",
     "text": [
      "{'greet': re.compile('.*\\\\bhi\\\\b.*|.*\\\\bhow do you do\\\\b.*|.*\\\\bhello\\\\b.*|.*\\\\bhowdy\\\\b.*|.*\\\\bhullo\\\\b.*'), 'timings': re.compile('.*\\\\btime\\\\b.*|.*\\\\btiming\\\\b.*|.*\\\\bclock\\\\b.*')}\n"
     ]
    }
   ],
   "source": [
    "# Building dictionary of Intents & Keywords\n",
    "keywords={}\n",
    "keywords_dict={}\n",
    "# Defining a new key in the keywords dictionary\n",
    "keywords['greet']=[]\n",
    "# Populating the values in the keywords dictionary with synonyms of keywords formatted with RegEx metacharacters \n",
    "for synonym in list(list_syn['hello']):\n",
    "    keywords['greet'].append('.*\\\\b'+synonym+'\\\\b.*')\n",
    "\n",
    "# Defining a new key in the keywords dictionary\n",
    "keywords['timings']=[]\n",
    "# Populating the values in the keywords dictionary with synonyms of keywords formatted with RegEx metacharacters \n",
    "for synonym in list(list_syn['timings']):\n",
    "    keywords['timings'].append('.*\\\\b'+synonym+'\\\\b.*')\n",
    "for intent, keys in keywords.items():\n",
    "    # Joining the values in the keywords dictionary with the OR (|) operator updating them in keywords_dict dictionary\n",
    "    keywords_dict[intent]=re.compile('|'.join(keys))\n",
    "print (keywords_dict)\n",
    "# Building a dictionary of responses\n",
    "responses={\n",
    "    'greet':'Hello! How can I help you?',\n",
    "    'timings':'We are open from 9AM to 5PM, Monday to Friday. We are closed on weekends and public holidays.',\n",
    "    'fallback':'I can not understand',\n",
    "}\n",
    "global keyNumber\n",
    "global isReserve\n",
    "keyNumber = 0\n",
    "isReserve = 0"
   ]
  },
  {
   "cell_type": "code",
   "execution_count": 3,
   "metadata": {},
   "outputs": [
    {
     "name": "stderr",
     "output_type": "stream",
     "text": [
      "2022-11-22 17:30:34.114 python[17094:2470698] TSM AdjustCapsLockLEDForKeyTransitionHandling - _ISSetPhysicalKeyboardCapsLockLED Inhibit\n"
     ]
    }
   ],
   "source": [
    "from tkinter import *\n",
    "\n",
    "# GUI\n",
    "root = Tk()\n",
    "root.title(\"Chatbot\")\n",
    "\n",
    "BG_GRAY = \"#ABB2B9\"\n",
    "BG_COLOR = \"#17202A\"\n",
    "TEXT_COLOR = \"#EAECEE\"\n",
    "\n",
    "FONT = \"Helvetica 14\"\n",
    "FONT_BOLD = \"Helvetica 13 bold\"\n",
    "\n",
    "\n",
    "# Send function\n",
    "def send(event):\n",
    "    global keyNumber\n",
    "    global isReserve\n",
    "    send = \"You -> \" + e.get()\n",
    "    txt.insert(END, \"\\n\" + send)\n",
    "\n",
    "    user_input = e.get().lower()\n",
    "    #quit입력시 종료\n",
    "    if user_input == 'quit':\n",
    "        root.forget(root)\n",
    "    key = 'temp'\n",
    "    if isReserve == 0: #예약자 정보가 필요 없는 경우\n",
    "        matched_intent = None\n",
    "        for intent,pattern in keywords_dict.items():\n",
    "            if re.search(pattern, user_input): \n",
    "                matched_intent=intent  \n",
    "        key='fallback' \n",
    "        if matched_intent in responses:\n",
    "            key = matched_intent\n",
    "\n",
    "    #상황별 질문 관리 responses[key] = 키워드\n",
    "    #keyNumer = 0 : 기본 질문 상황, 1 : 예약 신청(이름), 2 : 예약 신청(전화번호) 3:  : 예약 취소, 4 : 순서, 5 : 입장, 6 : 가게 정보\n",
    "    if keyNumber == 0: #기본 질문 상황\n",
    "        if key == \"greet\":\n",
    "            txt.insert(END, \"\\n\" + \"Bot -> \" + responses[key])\n",
    "            keyNumber = 1\n",
    "            isReserve = 1\n",
    "            txt.insert(END, \"\\n\" + \"Bot -> 성함을 입력해주세요\")\n",
    "        elif key == \"timing\":\n",
    "            txt.insert(END, \"\\n\" + \"Bot -> \" + responses[key])\n",
    "            keyNumber = 2\n",
    "    elif keyNumber == 1: #예약 신청(이름)\n",
    "        txt.insert(END, \"\\n\" + \"이름 : \" + user_input)\n",
    "        keyNumber = 2\n",
    "        isReserve = 1\n",
    "        txt.insert(END, \"\\n\" + \"전화번호를 입력해주세요\")\n",
    "    elif keyNumber == 2: #예약 신청(전화번호)\n",
    "        txt.insert(END, \"\\n\" + \"전화번호 : \" + user_input)\n",
    "        txt.insert(END, \"\\n\" + \"예약이 완료되었습니다.\")\n",
    "        keyNumber = 0\n",
    "        isReserve = 0\n",
    "    elif keyNumber == 3: #예약 취소\n",
    "        txt.insert(END, \"\\n\" + \"cancel reservation\")\n",
    "        keyNumber = 0\n",
    "        isReserve = 0\n",
    "    elif keyNumber == 4: #순서\n",
    "        keyNumber = 0\n",
    "        isReserve = 0\n",
    "    elif keyNumber == 5: #입장\n",
    "        keyNumber = 0\n",
    "        isReserve = 0\n",
    "    elif keyNumber == 6: #가게 정보\n",
    "        keyNumber = 0\n",
    "        isReserve = 0\n",
    "    \n",
    "    e.delete(0, END)\n",
    "\n",
    "\n",
    "lable1 = Label(root, bg=BG_COLOR, fg=TEXT_COLOR, text=\"Welcome\", font=FONT_BOLD, pady=10, width=20, height=1).grid(\n",
    "    row=0)\n",
    "\n",
    "txt = Text(root, bg=BG_COLOR, fg=TEXT_COLOR, font=FONT, width=60)\n",
    "txt.grid(row=1, column=0, columnspan=2)\n",
    "\n",
    "scrollbar = Scrollbar(txt)\n",
    "scrollbar.place(relheight=1, relx=0.974)\n",
    "\n",
    "e = Entry(root, bg=\"#2C3E50\", fg=TEXT_COLOR, font=FONT, width=55)\n",
    "e.grid(row=2, column=0)\n",
    "\n",
    "root.bind('<Return>', send)\n",
    "root.mainloop()\n"
   ]
  },
  {
   "cell_type": "code",
   "execution_count": null,
   "metadata": {},
   "outputs": [],
   "source": []
  }
 ],
 "metadata": {
  "kernelspec": {
   "display_name": "Python 3.9.13 ('study')",
   "language": "python",
   "name": "python3"
  },
  "language_info": {
   "codemirror_mode": {
    "name": "ipython",
    "version": 3
   },
   "file_extension": ".py",
   "mimetype": "text/x-python",
   "name": "python",
   "nbconvert_exporter": "python",
   "pygments_lexer": "ipython3",
   "version": "3.9.13"
  },
  "orig_nbformat": 4,
  "vscode": {
   "interpreter": {
    "hash": "ccf36e41011129541922ecffa55c31225ce300c444a2a33c3dc660ab5c583332"
   }
  }
 },
 "nbformat": 4,
 "nbformat_minor": 2
}
