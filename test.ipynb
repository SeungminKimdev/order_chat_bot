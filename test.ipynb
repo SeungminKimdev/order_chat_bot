{
 "cells": [
  {
   "cell_type": "code",
   "execution_count": 1,
   "metadata": {},
   "outputs": [
    {
     "name": "stdout",
     "output_type": "stream",
     "text": [
      "{'hello': {'hi', 'hello', 'how do you do', 'hullo', 'howdy'}, 'timings': {'timing', 'clock', 'time'}}\n"
     ]
    }
   ],
   "source": [
    "import re\n",
    "from nltk.corpus import wordnet\n",
    "# Building a list of Keywords\n",
    "list_words=['hello','timings']\n",
    "list_syn={}\n",
    "for word in list_words:\n",
    "    synonyms=[]\n",
    "    for syn in wordnet.synsets(word):\n",
    "        for lem in syn.lemmas():\n",
    "            # Remove any special characters from synonym strings\n",
    "            lem_name = re.sub('[^a-zA-Z0-9 \\n\\.]', ' ', lem.name())\n",
    "            synonyms.append(lem_name)\n",
    "    list_syn[word]=set(synonyms)\n",
    "print (list_syn)"
   ]
  },
  {
   "cell_type": "code",
   "execution_count": 2,
   "metadata": {},
   "outputs": [
    {
     "name": "stdout",
     "output_type": "stream",
     "text": [
      "{'greet': re.compile('.*\\\\bhi\\\\b.*|.*\\\\bhello\\\\b.*|.*\\\\bhow do you do\\\\b.*|.*\\\\bhullo\\\\b.*|.*\\\\bhowdy\\\\b.*'), 'timings': re.compile('.*\\\\btiming\\\\b.*|.*\\\\bclock\\\\b.*|.*\\\\btime\\\\b.*')}\n"
     ]
    }
   ],
   "source": [
    "# Building dictionary of Intents & Keywords\n",
    "keywords={}\n",
    "keywords_dict={}\n",
    "# Defining a new key in the keywords dictionary\n",
    "keywords['greet']=[]\n",
    "# Populating the values in the keywords dictionary with synonyms of keywords formatted with RegEx metacharacters \n",
    "for synonym in list(list_syn['hello']):\n",
    "    keywords['greet'].append('.*\\\\b'+synonym+'\\\\b.*')\n",
    "\n",
    "# Defining a new key in the keywords dictionary\n",
    "keywords['timings']=[]\n",
    "# Populating the values in the keywords dictionary with synonyms of keywords formatted with RegEx metacharacters \n",
    "for synonym in list(list_syn['timings']):\n",
    "    keywords['timings'].append('.*\\\\b'+synonym+'\\\\b.*')\n",
    "for intent, keys in keywords.items():\n",
    "    # Joining the values in the keywords dictionary with the OR (|) operator updating them in keywords_dict dictionary\n",
    "    keywords_dict[intent]=re.compile('|'.join(keys))\n",
    "print (keywords_dict)"
   ]
  },
  {
   "cell_type": "code",
   "execution_count": 3,
   "metadata": {},
   "outputs": [],
   "source": [
    "# Building a dictionary of responses\n",
    "responses={\n",
    "    'greet':'Hello! How can I help you?',\n",
    "    'timings':'We are open from 9AM to 5PM, Monday to Friday. We are closed on weekends and public holidays.',\n",
    "    'fallback':'I dont quite understand. Could you repeat that?',\n",
    "}"
   ]
  },
  {
   "cell_type": "code",
   "execution_count": 4,
   "metadata": {},
   "outputs": [
    {
     "name": "stderr",
     "output_type": "stream",
     "text": [
      "2022-11-22 14:00:36.035 python[13218:2362847] TSM AdjustCapsLockLEDForKeyTransitionHandling - _ISSetPhysicalKeyboardCapsLockLED Inhibit\n"
     ]
    },
    {
     "ename": "",
     "evalue": "",
     "output_type": "error",
     "traceback": [
      "\u001b[1;31m현재 셀 또는 이전 셀에서 코드를 실행하는 동안 Kernel이 충돌했습니다. 셀의 코드를 검토하여 오류의 가능한 원인을 식별하세요. 자세한 내용을 보려면 <a href='https://aka.ms/vscodeJupyterKernelCrash'> 여기 </a> 를 클릭하세요. 자세한 내용은 Jupyter <a href='command:jupyter.viewOutput'>로그</a>를 참조하세요."
     ]
    },
    {
     "ename": "",
     "evalue": "",
     "output_type": "error",
     "traceback": [
      "\u001b[1;31mCanceled future for execute_request message before replies were done"
     ]
    }
   ],
   "source": [
    "from tkinter import *\n",
    "\n",
    "# GUI\n",
    "root = Tk()\n",
    "root.title(\"Chatbot\")\n",
    "\n",
    "BG_GRAY = \"#ABB2B9\"\n",
    "BG_COLOR = \"#17202A\"\n",
    "TEXT_COLOR = \"#EAECEE\"\n",
    "\n",
    "FONT = \"Helvetica 14\"\n",
    "FONT_BOLD = \"Helvetica 13 bold\"\n",
    "\n",
    "# Send function\n",
    "def send():\n",
    "\tsend = \"You -> \" + e.get()\n",
    "\ttxt.insert(END, \"\\n\" + send)\n",
    "\n",
    "\tuser_input = e.get().lower()\n",
    "\tif user_input == 'quit':\n",
    "\t\troot.forget(root)\n",
    "\tmatched_intent = None\n",
    "\tfor intent,pattern in keywords_dict.items():\n",
    "        # Using the regular expression search function to look for keywords in user input\n",
    "\t\tif re.search(pattern, user_input): \n",
    "            # if a keyword matches, select the corresponding intent from the keywords_dict dictionary\n",
    "\t\t\tmatched_intent=intent  \n",
    "    # The fallback intent is selected by default\n",
    "\tkey='fallback' \n",
    "    \n",
    "\tif matched_intent in responses:\n",
    "        # If a keyword matches, the fallback intent is replaced by the matched intent as the key for the responses dictionary\n",
    "\t\tkey = matched_intent\n",
    "    # The chatbot prints the response that matches the selected intent\n",
    "\ttxt.insert(END, \"\\n\" + \"Bot -> \" + responses[key])\n",
    "\te.delete(0, END)\n",
    "\n",
    "\n",
    "lable1 = Label(root, bg=BG_COLOR, fg=TEXT_COLOR, text=\"Welcome\", font=FONT_BOLD, pady=10, width=20, height=1).grid(\n",
    "\trow=0)\n",
    "\n",
    "txt = Text(root, bg=BG_COLOR, fg=TEXT_COLOR, font=FONT, width=60)\n",
    "txt.grid(row=1, column=0, columnspan=2)\n",
    "\n",
    "scrollbar = Scrollbar(txt)\n",
    "scrollbar.place(relheight=1, relx=0.974)\n",
    "\n",
    "e = Entry(root, bg=\"#2C3E50\", fg=TEXT_COLOR, font=FONT, width=55)\n",
    "e.grid(row=2, column=0)\n",
    "\n",
    "send = Button(root, text=\"Send\", font=FONT_BOLD, bg=BG_GRAY,\n",
    "\t\t\tcommand=send).grid(row=2, column=1)\n",
    "\n",
    "root.mainloop()\n"
   ]
  },
  {
   "cell_type": "code",
   "execution_count": null,
   "metadata": {},
   "outputs": [],
   "source": []
  }
 ],
 "metadata": {
  "kernelspec": {
   "display_name": "Python 3.9.13 ('study')",
   "language": "python",
   "name": "python3"
  },
  "language_info": {
   "codemirror_mode": {
    "name": "ipython",
    "version": 3
   },
   "file_extension": ".py",
   "mimetype": "text/x-python",
   "name": "python",
   "nbconvert_exporter": "python",
   "pygments_lexer": "ipython3",
   "version": "3.9.13"
  },
  "orig_nbformat": 4,
  "vscode": {
   "interpreter": {
    "hash": "ccf36e41011129541922ecffa55c31225ce300c444a2a33c3dc660ab5c583332"
   }
  }
 },
 "nbformat": 4,
 "nbformat_minor": 2
}
